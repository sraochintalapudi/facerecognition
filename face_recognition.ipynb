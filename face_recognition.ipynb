{
  "nbformat": 4,
  "nbformat_minor": 0,
  "metadata": {
    "colab": {
      "name": "face recognition.ipynb",
      "provenance": []
    },
    "kernelspec": {
      "name": "python3",
      "display_name": "Python 3"
    }
  },
  "cells": [
    {
      "cell_type": "code",
      "metadata": {
        "id": "kaIRnTRBWJlf",
        "colab": {
          "base_uri": "https://localhost:8080/",
          "height": 34
        },
        "outputId": "70f1298e-fbf4-45a8-a5a1-48d77f14b128"
      },
      "source": [
        "print(\"face Recognition\")"
      ],
      "execution_count": null,
      "outputs": [
        {
          "output_type": "stream",
          "text": [
            "facial Recognition\n"
          ],
          "name": "stdout"
        }
      ]
    },
    {
      "cell_type": "code",
      "metadata": {
        "id": "Lc3G35vzWZjf"
      },
      "source": [
        "from sklearn.datasets import fetch_lfw_people\n",
        "from sklearn.decomposition import PCA\n",
        "from sklearn.neural_network import MLPClassifier\n",
        "from sklearn.model_selection import train_test_split\n",
        "from sklearn.metrics import classification_report"
      ],
      "execution_count": null,
      "outputs": []
    },
    {
      "cell_type": "code",
      "metadata": {
        "id": "pmskKX1vWePW",
        "colab": {
          "base_uri": "https://localhost:8080/",
          "height": 85
        },
        "outputId": "ccef51f1-7047-418d-86ac-87e4f7186cfe"
      },
      "source": [
        "lfw = fetch_lfw_people(min_faces_per_person=150)\n",
        "\n",
        "X_data = lfw.data\n",
        "y_target = lfw.target\n",
        "names = lfw.target_names"
      ],
      "execution_count": null,
      "outputs": [
        {
          "output_type": "stream",
          "text": [
            "Downloading LFW metadata: https://ndownloader.figshare.com/files/5976012\n",
            "Downloading LFW metadata: https://ndownloader.figshare.com/files/5976009\n",
            "Downloading LFW metadata: https://ndownloader.figshare.com/files/5976006\n",
            "Downloading LFW data (~200MB): https://ndownloader.figshare.com/files/5976015\n"
          ],
          "name": "stderr"
        }
      ]
    },
    {
      "cell_type": "code",
      "metadata": {
        "id": "9w6a8mEcXC8k",
        "colab": {
          "base_uri": "https://localhost:8080/",
          "height": 170
        },
        "outputId": "ec1ed371-f3fc-46be-c360-6a9d8a79ed4e"
      },
      "source": [
        "X_train, X_test, y_train, y_test = train_test_split(X_data, y_target, test_size=0.3)\n",
        "\n",
        "\n",
        "pca = PCA(n_components=150, whiten=True)\n",
        "pca.fit(X_train)\n",
        "\n",
        "pca_train = pca.transform(X_train)\n",
        "pca_test = pca.transform(X_test)\n",
        "\n",
        "\n",
        "mlpc = MLPClassifier()\n",
        "mlpc.fit(pca_train, y_train)\n",
        "\n",
        "y_pred = mlpc.predict(pca_test)\n",
        "print(classification_report(y_test, y_pred, target_names=names))"
      ],
      "execution_count": null,
      "outputs": [
        {
          "output_type": "stream",
          "text": [
            "               precision    recall  f1-score   support\n",
            "\n",
            " Colin Powell       0.98      0.83      0.90        69\n",
            "George W Bush       0.93      0.99      0.96       161\n",
            "\n",
            "     accuracy                           0.94       230\n",
            "    macro avg       0.96      0.91      0.93       230\n",
            " weighted avg       0.95      0.94      0.94       230\n",
            "\n"
          ],
          "name": "stdout"
        }
      ]
    }
  ]
}